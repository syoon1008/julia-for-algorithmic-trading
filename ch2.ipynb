{
 "cells": [
  {
   "cell_type": "code",
   "execution_count": 1,
   "metadata": {},
   "outputs": [],
   "source": [
    "using HTTP, JSON"
   ]
  },
  {
   "cell_type": "code",
   "execution_count": 5,
   "metadata": {},
   "outputs": [
    {
     "data": {
      "text/plain": [
       "Dict{String, Any} with 2 entries:\n",
       "  \"datatable\" => Dict{String, Any}(\"data\"=>Any[Any[\"TSLA\", \"2023-06-30\", 260.6,…\n",
       "  \"meta\"      => Dict{String, Any}(\"next_cursor_id\"=>nothing)"
      ]
     },
     "execution_count": 5,
     "metadata": {},
     "output_type": "execute_result"
    }
   ],
   "source": [
    "data = HTTP.request(\"GET\", \"https://data.nasdaq.com/api/v3/datatables/QUOTEMEDIA/PRICES?date.lte=2023-06-30&date.gte=2023-06-01&ticker=TSLA&api_key=XXXXX\")\n",
    "response = String(data.body)\n",
    "j = JSON.parse(response)"
   ]
  },
  {
   "cell_type": "code",
   "execution_count": 6,
   "metadata": {},
   "outputs": [
    {
     "data": {
      "text/plain": [
       "21-element Vector{Any}:\n",
       " Any[\"TSLA\", \"2023-06-30\", 260.6, 264.45, 259.89, 261.77, 1.11697969e8, 0.0, 1.0, 260.6, 264.45, 259.89, 261.77, 1.11697969e8]\n",
       " Any[\"TSLA\", \"2023-06-29\", 258.03, 260.74, 253.61, 257.5, 1.30632391e8, 0.0, 1.0, 258.03, 260.74, 253.61, 257.5, 1.30632391e8]\n",
       " Any[\"TSLA\", \"2023-06-28\", 249.7, 259.88, 248.89, 256.24, 1.58813893e8, 0.0, 1.0, 249.7, 259.88, 248.89, 256.24, 1.58813893e8]\n",
       " Any[\"TSLA\", \"2023-06-27\", 243.24, 250.3899, 240.85, 250.21, 1.63197917e8, 0.0, 1.0, 243.24, 250.3899, 240.85, 250.21, 1.63197917e8]\n",
       " Any[\"TSLA\", \"2023-06-26\", 250.065, 258.37, 240.7, 241.05, 1.77757766e8, 0.0, 1.0, 250.065, 258.37, 240.7, 241.05, 1.77757766e8]\n",
       " Any[\"TSLA\", \"2023-06-23\", 259.29, 262.45, 252.8, 256.6, 1.76196424e8, 0.0, 1.0, 259.29, 262.45, 252.8, 256.6, 1.76196424e8]\n",
       " Any[\"TSLA\", \"2023-06-22\", 250.77, 265.0, 248.25, 264.61, 1.64559087e8, 0.0, 1.0, 250.77, 265.0, 248.25, 264.61, 1.64559087e8]\n",
       " Any[\"TSLA\", \"2023-06-21\", 275.13, 276.99, 257.78, 259.46, 2.09960863e8, 0.0, 1.0, 275.13, 276.99, 257.78, 259.46, 2.09960863e8]\n",
       " Any[\"TSLA\", \"2023-06-20\", 261.5, 274.75, 261.12, 274.45, 1.635728e8, 0.0, 1.0, 261.5, 274.75, 261.12, 274.45, 1.635728e8]\n",
       " Any[\"TSLA\", \"2023-06-16\", 258.92, 263.6, 257.2091, 260.54, 1.6743749e8, 0.0, 1.0, 258.92, 263.6, 257.2091, 260.54, 1.6743749e8]\n",
       " Any[\"TSLA\", \"2023-06-15\", 248.4, 258.95, 247.29, 255.9, 1.58738576e8, 0.0, 1.0, 248.4, 258.95, 247.29, 255.9, 1.58738576e8]\n",
       " Any[\"TSLA\", \"2023-06-14\", 260.17, 261.57, 250.5, 256.79, 1.69125823e8, 0.0, 1.0, 260.17, 261.57, 250.5, 256.79, 1.69125823e8]\n",
       " Any[\"TSLA\", \"2023-06-13\", 253.51, 259.68, 251.34, 258.71, 1.59739146e8, 0.0, 1.0, 253.51, 259.68, 251.34, 258.71, 1.59739146e8]\n",
       " Any[\"TSLA\", \"2023-06-12\", 247.94, 250.97, 244.59, 249.83, 1.49734619e8, 0.0, 1.0, 247.94, 250.97, 244.59, 249.83, 1.49734619e8]\n",
       " Any[\"TSLA\", \"2023-06-09\", 249.07, 252.42, 242.02, 244.4, 1.99122546e8, 0.0, 1.0, 249.07, 252.42, 242.02, 244.4, 1.99122546e8]\n",
       " Any[\"TSLA\", \"2023-06-08\", 224.22, 235.23, 223.01, 234.86, 1.52227206e8, 0.0, 1.0, 224.22, 235.23, 223.01, 234.86, 1.52227206e8]\n",
       " Any[\"TSLA\", \"2023-06-07\", 228.0, 230.8296, 223.2, 224.57, 1.84604941e8, 0.0, 1.0, 228.0, 230.8296, 223.2, 224.57, 1.84604941e8]\n",
       " Any[\"TSLA\", \"2023-06-06\", 216.14, 221.91, 212.53, 221.31, 1.43995266e8, 0.0, 1.0, 216.14, 221.91, 212.53, 221.31, 1.43995266e8]\n",
       " Any[\"TSLA\", \"2023-06-05\", 217.8, 221.29, 214.52, 217.61, 1.50327369e8, 0.0, 1.0, 217.8, 221.29, 214.52, 217.61, 1.50327369e8]\n",
       " Any[\"TSLA\", \"2023-06-02\", 210.15, 217.25, 209.752, 213.97, 1.63726131e8, 0.0, 1.0, 210.15, 217.25, 209.752, 213.97, 1.63726131e8]\n",
       " Any[\"TSLA\", \"2023-06-01\", 202.59, 209.8, 199.37, 207.52, 1.47323506e8, 0.0, 1.0, 202.59, 209.8, 199.37, 207.52, 1.47323506e8]"
      ]
     },
     "execution_count": 6,
     "metadata": {},
     "output_type": "execute_result"
    }
   ],
   "source": [
    "# Entries\n",
    "records = j[\"datatable\"][\"data\"]"
   ]
  },
  {
   "cell_type": "code",
   "execution_count": 18,
   "metadata": {},
   "outputs": [
    {
     "name": "stderr",
     "output_type": "stream",
     "text": [
      "\u001b[32m\u001b[1m   Resolving\u001b[22m\u001b[39m package versions...\n",
      "\u001b[32m\u001b[1m    Updating\u001b[22m\u001b[39m `~/.julia/environments/v1.9/Project.toml`\n",
      "  \u001b[90m[ade2ca70] \u001b[39m\u001b[92m+ Dates\u001b[39m\n",
      "\u001b[32m\u001b[1m  No Changes\u001b[22m\u001b[39m to `~/.julia/environments/v1.9/Manifest.toml`\n"
     ]
    }
   ],
   "source": [
    "import Pkg; Pkg.add(\"Dates\")"
   ]
  },
  {
   "cell_type": "code",
   "execution_count": 21,
   "metadata": {},
   "outputs": [],
   "source": [
    "# Plain arrays\n",
    "using Dates\n",
    "dates = Date[]\n",
    "closed_prices = Float64[]\n",
    "for record in records\n",
    "    push!(dates, Date(record[2], dateformat\"y-m-d\"))\n",
    "    push!(closed_prices, record[4])\n",
    "end"
   ]
  },
  {
   "cell_type": "code",
   "execution_count": 22,
   "metadata": {},
   "outputs": [
    {
     "data": {
      "text/html": [
       "<div><div style = \"float: left;\"><span>21×2 DataFrame</span></div><div style = \"clear: both;\"></div></div><div class = \"data-frame\" style = \"overflow-x: scroll;\"><table class = \"data-frame\" style = \"margin-bottom: 6px;\"><thead><tr class = \"header\"><th class = \"rowNumber\" style = \"font-weight: bold; text-align: right;\">Row</th><th style = \"text-align: left;\">date</th><th style = \"text-align: left;\">price</th></tr><tr class = \"subheader headerLastRow\"><th class = \"rowNumber\" style = \"font-weight: bold; text-align: right;\"></th><th title = \"Date\" style = \"text-align: left;\">Date</th><th title = \"Float64\" style = \"text-align: left;\">Float64</th></tr></thead><tbody><tr><td class = \"rowNumber\" style = \"font-weight: bold; text-align: right;\">1</td><td style = \"text-align: left;\">2023-06-30</td><td style = \"text-align: right;\">264.45</td></tr><tr><td class = \"rowNumber\" style = \"font-weight: bold; text-align: right;\">2</td><td style = \"text-align: left;\">2023-06-29</td><td style = \"text-align: right;\">260.74</td></tr><tr><td class = \"rowNumber\" style = \"font-weight: bold; text-align: right;\">3</td><td style = \"text-align: left;\">2023-06-28</td><td style = \"text-align: right;\">259.88</td></tr><tr><td class = \"rowNumber\" style = \"font-weight: bold; text-align: right;\">4</td><td style = \"text-align: left;\">2023-06-27</td><td style = \"text-align: right;\">250.39</td></tr><tr><td class = \"rowNumber\" style = \"font-weight: bold; text-align: right;\">5</td><td style = \"text-align: left;\">2023-06-26</td><td style = \"text-align: right;\">258.37</td></tr><tr><td class = \"rowNumber\" style = \"font-weight: bold; text-align: right;\">6</td><td style = \"text-align: left;\">2023-06-23</td><td style = \"text-align: right;\">262.45</td></tr><tr><td class = \"rowNumber\" style = \"font-weight: bold; text-align: right;\">7</td><td style = \"text-align: left;\">2023-06-22</td><td style = \"text-align: right;\">265.0</td></tr><tr><td class = \"rowNumber\" style = \"font-weight: bold; text-align: right;\">8</td><td style = \"text-align: left;\">2023-06-21</td><td style = \"text-align: right;\">276.99</td></tr><tr><td class = \"rowNumber\" style = \"font-weight: bold; text-align: right;\">9</td><td style = \"text-align: left;\">2023-06-20</td><td style = \"text-align: right;\">274.75</td></tr><tr><td class = \"rowNumber\" style = \"font-weight: bold; text-align: right;\">10</td><td style = \"text-align: left;\">2023-06-16</td><td style = \"text-align: right;\">263.6</td></tr><tr><td class = \"rowNumber\" style = \"font-weight: bold; text-align: right;\">11</td><td style = \"text-align: left;\">2023-06-15</td><td style = \"text-align: right;\">258.95</td></tr><tr><td class = \"rowNumber\" style = \"font-weight: bold; text-align: right;\">12</td><td style = \"text-align: left;\">2023-06-14</td><td style = \"text-align: right;\">261.57</td></tr><tr><td class = \"rowNumber\" style = \"font-weight: bold; text-align: right;\">13</td><td style = \"text-align: left;\">2023-06-13</td><td style = \"text-align: right;\">259.68</td></tr><tr><td class = \"rowNumber\" style = \"font-weight: bold; text-align: right;\">14</td><td style = \"text-align: left;\">2023-06-12</td><td style = \"text-align: right;\">250.97</td></tr><tr><td class = \"rowNumber\" style = \"font-weight: bold; text-align: right;\">15</td><td style = \"text-align: left;\">2023-06-09</td><td style = \"text-align: right;\">252.42</td></tr><tr><td class = \"rowNumber\" style = \"font-weight: bold; text-align: right;\">16</td><td style = \"text-align: left;\">2023-06-08</td><td style = \"text-align: right;\">235.23</td></tr><tr><td class = \"rowNumber\" style = \"font-weight: bold; text-align: right;\">17</td><td style = \"text-align: left;\">2023-06-07</td><td style = \"text-align: right;\">230.83</td></tr><tr><td class = \"rowNumber\" style = \"font-weight: bold; text-align: right;\">18</td><td style = \"text-align: left;\">2023-06-06</td><td style = \"text-align: right;\">221.91</td></tr><tr><td class = \"rowNumber\" style = \"font-weight: bold; text-align: right;\">19</td><td style = \"text-align: left;\">2023-06-05</td><td style = \"text-align: right;\">221.29</td></tr><tr><td class = \"rowNumber\" style = \"font-weight: bold; text-align: right;\">20</td><td style = \"text-align: left;\">2023-06-02</td><td style = \"text-align: right;\">217.25</td></tr><tr><td class = \"rowNumber\" style = \"font-weight: bold; text-align: right;\">21</td><td style = \"text-align: left;\">2023-06-01</td><td style = \"text-align: right;\">209.8</td></tr></tbody></table></div>"
      ],
      "text/latex": [
       "\\begin{tabular}{r|cc}\n",
       "\t& date & price\\\\\n",
       "\t\\hline\n",
       "\t& Date & Float64\\\\\n",
       "\t\\hline\n",
       "\t1 & 2023-06-30 & 264.45 \\\\\n",
       "\t2 & 2023-06-29 & 260.74 \\\\\n",
       "\t3 & 2023-06-28 & 259.88 \\\\\n",
       "\t4 & 2023-06-27 & 250.39 \\\\\n",
       "\t5 & 2023-06-26 & 258.37 \\\\\n",
       "\t6 & 2023-06-23 & 262.45 \\\\\n",
       "\t7 & 2023-06-22 & 265.0 \\\\\n",
       "\t8 & 2023-06-21 & 276.99 \\\\\n",
       "\t9 & 2023-06-20 & 274.75 \\\\\n",
       "\t10 & 2023-06-16 & 263.6 \\\\\n",
       "\t11 & 2023-06-15 & 258.95 \\\\\n",
       "\t12 & 2023-06-14 & 261.57 \\\\\n",
       "\t13 & 2023-06-13 & 259.68 \\\\\n",
       "\t14 & 2023-06-12 & 250.97 \\\\\n",
       "\t15 & 2023-06-09 & 252.42 \\\\\n",
       "\t16 & 2023-06-08 & 235.23 \\\\\n",
       "\t17 & 2023-06-07 & 230.83 \\\\\n",
       "\t18 & 2023-06-06 & 221.91 \\\\\n",
       "\t19 & 2023-06-05 & 221.29 \\\\\n",
       "\t20 & 2023-06-02 & 217.25 \\\\\n",
       "\t21 & 2023-06-01 & 209.8 \\\\\n",
       "\\end{tabular}\n"
      ],
      "text/plain": [
       "\u001b[1m21×2 DataFrame\u001b[0m\n",
       "\u001b[1m Row \u001b[0m│\u001b[1m date       \u001b[0m\u001b[1m price   \u001b[0m\n",
       "     │\u001b[90m Date       \u001b[0m\u001b[90m Float64 \u001b[0m\n",
       "─────┼─────────────────────\n",
       "   1 │ 2023-06-30   264.45\n",
       "   2 │ 2023-06-29   260.74\n",
       "   3 │ 2023-06-28   259.88\n",
       "   4 │ 2023-06-27   250.39\n",
       "   5 │ 2023-06-26   258.37\n",
       "   6 │ 2023-06-23   262.45\n",
       "   7 │ 2023-06-22   265.0\n",
       "   8 │ 2023-06-21   276.99\n",
       "   9 │ 2023-06-20   274.75\n",
       "  10 │ 2023-06-16   263.6\n",
       "  11 │ 2023-06-15   258.95\n",
       "  12 │ 2023-06-14   261.57\n",
       "  13 │ 2023-06-13   259.68\n",
       "  14 │ 2023-06-12   250.97\n",
       "  15 │ 2023-06-09   252.42\n",
       "  16 │ 2023-06-08   235.23\n",
       "  17 │ 2023-06-07   230.83\n",
       "  18 │ 2023-06-06   221.91\n",
       "  19 │ 2023-06-05   221.29\n",
       "  20 │ 2023-06-02   217.25\n",
       "  21 │ 2023-06-01   209.8"
      ]
     },
     "execution_count": 22,
     "metadata": {},
     "output_type": "execute_result"
    }
   ],
   "source": [
    "using DataFrames\n",
    "closed_price_df = DataFrame(date=dates, price=closed_prices)"
   ]
  }
 ],
 "metadata": {
  "kernelspec": {
   "display_name": "Julia 1.9.1",
   "language": "julia",
   "name": "julia-1.9"
  },
  "language_info": {
   "file_extension": ".jl",
   "mimetype": "application/julia",
   "name": "julia",
   "version": "1.9.1"
  },
  "orig_nbformat": 4
 },
 "nbformat": 4,
 "nbformat_minor": 2
}
