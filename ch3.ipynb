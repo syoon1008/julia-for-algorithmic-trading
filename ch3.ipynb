{
 "cells": [
  {
   "cell_type": "code",
   "execution_count": 1,
   "metadata": {},
   "outputs": [],
   "source": [
    "# headless web browsing \n",
    "# testing\n",
    "\n",
    "using WebDriver, Gumbo, Cascadia\n",
    "capabilities = Capabilities(\"safari\")\n",
    "wd = RemoteWebDriver(capabilities, host = \"172.30.1.58\", port = 4444)\n",
    "status(wd)\n",
    "session = Session(wd)\n",
    "# current_url(session)\n",
    "navigate!(session, \"https://www.opentable.com/new-york-restaurant-listings\")\n",
    "\n"
   ]
  },
  {
   "cell_type": "code",
   "execution_count": 2,
   "metadata": {},
   "outputs": [],
   "source": [
    "for i = 1:20\n",
    "    script!(session, \"window.scrollBy({top: window.innerHeight, left: 0, behavior: 'smooth'});\")\n",
    "    sleep(1)\n",
    "end"
   ]
  },
  {
   "cell_type": "code",
   "execution_count": 3,
   "metadata": {},
   "outputs": [],
   "source": [
    "for i = 1:10\n",
    "    script!(session, \"window.scrollBy({top: window.innerHeight, left: 0, behavior: 'smooth'});\")\n",
    "    sleep(1)\n",
    "end"
   ]
  },
  {
   "cell_type": "code",
   "execution_count": 4,
   "metadata": {},
   "outputs": [],
   "source": [
    "for i = 1:3\n",
    "    script!(session, \"window.scrollBy({top: window.innerHeight, left: 0, behavior: 'smooth'});\")\n",
    "    sleep(1)\n",
    "end"
   ]
  },
  {
   "cell_type": "code",
   "execution_count": 5,
   "metadata": {},
   "outputs": [
    {
     "data": {
      "text/plain": [
       "HTML Document:\n",
       "<!DOCTYPE >\n",
       "HTMLElement{:HTML}:<HTML lang=\"en-US\">\n",
       "  <head>\n",
       "    <meta charset=\"utf-8\"/>\n",
       "    <meta content=\"width=device-width, initial-scale=1\" name=\"viewport\"/>\n",
       "    <link href=\"//cdn.otstatic.com/cfe/14/images/favicon-16-378b8c.png\" rel=\"icon\" sizes=\"16x16\"/>\n",
       "    <link href=\"//cdn.otstatic.com/cfe/14/images/favicon-32-5ec316.png\" rel=\"icon\" sizes=\"32x32\"/>\n",
       "    <link href=\"//cdn.otstatic.com/cfe/14/images/favicon-48-0d2162.png\" rel=\"icon\" sizes=\"48x48\"/>\n",
       "    <link href=\"//cdn.otstatic.com/cfe/14/images/favicon-64-bf0643.png\" rel=\"icon\" sizes=\"64x64\"/>\n",
       "    <link href=\"//cdn.otstatic.com/cfe/14/images/favicon-128-15926e.png\" rel=\"icon\" sizes=\"128x128\"/>\n",
       "    <title>\n",
       "      Restaurant Reservation Availability | OpenTable\n",
       "    </title>\n",
       "    <meta content=\"restaurants,unknown,unknown\" name=\"ot:page_type\"/>\n",
       "    <meta content=\"noindex,nofollow\" name=\"robots\"/>\n",
       "    <meta content=\"Restaurant Reservation Availability | OpenTable\" property=\"og:title\"/>\n",
       "    <meta content=\"website\" property=\"og:type\"/>\n",
       "    <meta content=\"OpenTable\" property=\"og:site_name\"/>\n",
       "    <meta content=\"123876194314735\" property=\"fb:pages\"/>\n",
       "    <meta content=\"summary_large_image\" name=\"twitter:card\"/>\n",
       "    <meta content=\"@opentable\" name=\"twitter:site\"/>\n",
       "...\n"
      ]
     },
     "execution_count": 5,
     "metadata": {},
     "output_type": "execute_result"
    }
   ],
   "source": [
    "html = parsehtml(source(session))"
   ]
  },
  {
   "cell_type": "code",
   "execution_count": 52,
   "metadata": {},
   "outputs": [],
   "source": [
    "body_element = html.root[2]\n",
    "for e in body_element.children\n",
    "    try\n",
    "        if tag(e) == :div\n",
    "            if getattr(e, \"id\") == \"wrapper\"\n",
    "                # println(\"1\", e)\n",
    "                a = e[1][1]\n",
    "                for e2 in a.children\n",
    "                    if tag(e2) == :main\n",
    "                        for e3 in e2.children\n",
    "                            if tag(e3) == :div\n",
    "                                b = e3\n",
    "                                # println(\"3\", e3)\n",
    "                                # print(b)\n",
    "                                for e4 in b.children\n",
    "                                    if tag(e4) == :div\n",
    "                                        # println(\"4\", e4)\n",
    "                                        for e5 in e4.children\n",
    "                                            # println(e5)\n",
    "                                            if tag(e5) == :div\n",
    "                                                \n",
    "                                                # println(e5)\n",
    "                                                if hasattr(e5, \"data-test\")\n",
    "                                                    # println()\n",
    "                                                    if getattr(e5, \"data-test\") == \"restaurant-cards\"\n",
    "                                                        cards = e5\n",
    "                                                    end\n",
    "                                                end\n",
    "                                            end\n",
    "                                        end\n",
    "                                    end \n",
    "                                end\n",
    "                            end\n",
    "                        end\n",
    "                    end\n",
    "                end\n",
    "            end\n",
    "        end\n",
    "    catch\n",
    "        # Nothing\n",
    "    end\n",
    "end"
   ]
  },
  {
   "cell_type": "code",
   "execution_count": 54,
   "metadata": {},
   "outputs": [
    {
     "name": "stdout",
     "output_type": "stream",
     "text": [
      "(50,)\n"
     ]
    }
   ],
   "source": [
    "println(size(cards.children))"
   ]
  },
  {
   "cell_type": "code",
   "execution_count": 71,
   "metadata": {},
   "outputs": [
    {
     "name": "stdout",
     "output_type": "stream",
     "text": [
      "Bustan4.7\n",
      "Nice Matin4.5\n",
      "Fogo de Chao - New York4.4\n",
      "Dagon4.4\n",
      "Carmine's - 91st Street - NYC4.5\n",
      "Tavern on the Green4.6\n",
      "5 Napkin Burger - Upper West Side4.6\n",
      "Elea4.7\n",
      "Sarabeth's West4.5\n",
      "STK - Rooftop4.2\n",
      "Nusr-Et Steakhouse New York4.6\n",
      "STK - NYC - Midtown3.9\n",
      "French Roast Uptown4.5\n",
      "Butcher and Banker NYC4.4\n",
      "Crave Fishbar - UWS4.7\n",
      "Cafe Luxembourg4.7\n",
      "Limani - NYC4.6\n",
      "Nerea4.4\n",
      "Sushi Yasaka4.7\n",
      "La Grande Boucherie4.5\n",
      "Kyma - Hudson Yards4.7\n",
      "Roof at Park South4.3\n",
      "LAVO Italian Restaurant - New York4.6\n",
      "Playa Betty's4.3\n",
      "Bookmarks4.6\n",
      "Serra by Birreria4.2\n",
      "PHD Terrace – Dream Midtown4.1\n",
      "The Milling Room4.5\n",
      "FIG & OLIVE Meatpacking4.6\n",
      "Hawksmoor NYC4.5\n",
      "Song E Napule - UWS4.5\n",
      "Cafe d'Alsace4.6\n",
      "Pink Taco - NYC4.2\n",
      "The Smith- Lincoln Square4.4\n",
      "Gyu-Kaku - Manhattan - Amsterdam Ave.4.5\n",
      "Carmine's - 44th Street - NYC4.6\n",
      "Marseille4.6\n",
      "Quality Eats Upper East Side4.5\n",
      "The Blue Mezze Bar4.4\n",
      "Dolly Varden4.5\n",
      "Allora Fifth Ave4.3\n",
      "SOL Mexican Cocina - New York4.3\n",
      "Trattoria Bianca4.3\n",
      "Elsie Rooftop3.7\n",
      "Kasbah Grill3.9\n",
      "Mino Brasserie4.6\n",
      "Rosevale Kitchen & Cocktail Room4.3\n",
      "Osteria Nando4.4\n",
      "STK - NYC - Meatpacking4.2\n",
      "Momoya4.6\n"
     ]
    }
   ],
   "source": [
    "for (index, card) in enumerate(children(cards))\n",
    "    # println(index, item)\n",
    "    # name\n",
    "    # rating\n",
    "    item = card[2][1] \n",
    "    name = text(item[1][1][1])\n",
    "    rating = parse(Float64, text(item[2][1][2]))\n",
    "    # \n",
    "    println(name, rating)\n",
    "end"
   ]
  }
 ],
 "metadata": {
  "kernelspec": {
   "display_name": "Julia 1.9.1",
   "language": "julia",
   "name": "julia-1.9"
  },
  "language_info": {
   "file_extension": ".jl",
   "mimetype": "application/julia",
   "name": "julia",
   "version": "1.9.1"
  },
  "orig_nbformat": 4
 },
 "nbformat": 4,
 "nbformat_minor": 2
}
