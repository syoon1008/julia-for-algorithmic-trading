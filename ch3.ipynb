{
 "cells": [
  {
   "cell_type": "code",
   "execution_count": 1,
   "metadata": {},
   "outputs": [
    {
     "data": {
      "text/plain": [
       "Session\n"
      ]
     },
     "execution_count": 1,
     "metadata": {},
     "output_type": "execute_result"
    }
   ],
   "source": [
    "# headless web browsing \n",
    "# testing\n",
    "\n",
    "using WebDriver, Gumbo, Cascadia\n",
    "capabilities = Capabilities(\"safari\")\n",
    "wd = RemoteWebDriver(capabilities, host = \"172.30.1.35\", port = 4444)\n",
    "status(wd)\n",
    "session = Session(wd)\n",
    "# current_url(session)\n",
    "\n"
   ]
  },
  {
   "cell_type": "code",
   "execution_count": 3,
   "metadata": {},
   "outputs": [
    {
     "name": "stdout",
     "output_type": "stream",
     "text": [
      "1\n",
      "2\n"
     ]
    }
   ],
   "source": [
    "# todo\n",
    "# \n",
    "page = 0\n",
    "cards = nothing\n",
    "item_count = 0\n",
    "restaurant_names = String[]\n",
    "restaurant_ratings = Float64[]\n",
    "while true\n",
    "    page += 1\n",
    "    println(page)\n",
    "    navigate!(session, \"https://www.opentable.com/new-york-restaurant-listings?page=$page\")\n",
    "    for i = 1:35\n",
    "        script!(session, \"window.scrollBy({top: window.innerHeight, left: 0, behavior: 'smooth'});\")\n",
    "        sleep(1)\n",
    "    end\n",
    "    html = parsehtml(source(session))\n",
    "    body_element = html.root[2]\n",
    "    for e in body_element.children\n",
    "        try\n",
    "            if tag(e) == :div\n",
    "                if getattr(e, \"id\") == \"wrapper\"\n",
    "                    # println(\"1\", e)\n",
    "                    a = e[1][1]\n",
    "                    for e2 in a.children\n",
    "                        if tag(e2) == :main\n",
    "                            for e3 in e2.children\n",
    "                                if tag(e3) == :div\n",
    "                                    b = e3\n",
    "                                    # println(\"3\", e3)\n",
    "                                    # print(b)\n",
    "                                    for e4 in b.children\n",
    "                                        if tag(e4) == :div\n",
    "                                            # println(\"4\", e4)\n",
    "                                            for e5 in e4.children\n",
    "                                                # println(e5)\n",
    "                                                if tag(e5) == :div\n",
    "                                                    \n",
    "                                                    # println(e5)\n",
    "                                                    if hasattr(e5, \"data-test\")\n",
    "                                                        # println()\n",
    "                                                        if getattr(e5, \"data-test\") == \"restaurant-cards\"\n",
    "                                                            cards = e5\n",
    "                                                        end\n",
    "                                                    end\n",
    "                                                end\n",
    "                                            end\n",
    "                                        end \n",
    "                                    end\n",
    "                                end\n",
    "                            end\n",
    "                        end\n",
    "                    end\n",
    "                end\n",
    "            end\n",
    "        catch\n",
    "            # Nothing\n",
    "        end\n",
    "    end\n",
    "    for (index, card) in enumerate(children(cards))\n",
    "        item = card[2][1] \n",
    "        name = text(item[1][1][1])\n",
    "        if length(item.children) == 1\n",
    "            rating = 0\n",
    "        else\n",
    "            mitem = item[2][1]\n",
    "            if length(mitem.children) == 1\n",
    "                rating = 0\n",
    "            else\n",
    "                rating = parse(Float64, text(mitem[2]))\n",
    "            end\n",
    "        push!(restaurant_names, name)\n",
    "        push!(restaurant_ratings, rating)\n",
    "        end\n",
    "    end\n",
    "    if page == 2\n",
    "        break\n",
    "    end\n",
    "    if length(children(cards)) < 50\n",
    "        break\n",
    "    end\n",
    "end\n"
   ]
  },
  {
   "cell_type": "code",
   "execution_count": 5,
   "metadata": {},
   "outputs": [
    {
     "data": {
      "text/html": [
       "<div><div style = \"float: left;\"><span>100×2 DataFrame</span></div><div style = \"float: right;\"><span style = \"font-style: italic;\">75 rows omitted</span></div><div style = \"clear: both;\"></div></div><div class = \"data-frame\" style = \"overflow-x: scroll;\"><table class = \"data-frame\" style = \"margin-bottom: 6px;\"><thead><tr class = \"header\"><th class = \"rowNumber\" style = \"font-weight: bold; text-align: right;\">Row</th><th style = \"text-align: left;\">name</th><th style = \"text-align: left;\">rating</th></tr><tr class = \"subheader headerLastRow\"><th class = \"rowNumber\" style = \"font-weight: bold; text-align: right;\"></th><th title = \"Any\" style = \"text-align: left;\">Any</th><th title = \"Any\" style = \"text-align: left;\">Any</th></tr></thead><tbody><tr><td class = \"rowNumber\" style = \"font-weight: bold; text-align: right;\">1</td><td style = \"text-align: left;\">Bustan</td><td style = \"text-align: left;\">4.7</td></tr><tr><td class = \"rowNumber\" style = \"font-weight: bold; text-align: right;\">2</td><td style = \"text-align: left;\">Elea</td><td style = \"text-align: left;\">4.7</td></tr><tr><td class = \"rowNumber\" style = \"font-weight: bold; text-align: right;\">3</td><td style = \"text-align: left;\">Nice Matin</td><td style = \"text-align: left;\">4.5</td></tr><tr><td class = \"rowNumber\" style = \"font-weight: bold; text-align: right;\">4</td><td style = \"text-align: left;\">Dagon</td><td style = \"text-align: left;\">4.5</td></tr><tr><td class = \"rowNumber\" style = \"font-weight: bold; text-align: right;\">5</td><td style = \"text-align: left;\">Fogo de Chao - New York</td><td style = \"text-align: left;\">4.4</td></tr><tr><td class = \"rowNumber\" style = \"font-weight: bold; text-align: right;\">6</td><td style = \"text-align: left;\">Carmine&apos;s - 91st Street - NYC</td><td style = \"text-align: left;\">4.5</td></tr><tr><td class = \"rowNumber\" style = \"font-weight: bold; text-align: right;\">7</td><td style = \"text-align: left;\">Arco Cafe</td><td style = \"text-align: left;\">4.8</td></tr><tr><td class = \"rowNumber\" style = \"font-weight: bold; text-align: right;\">8</td><td style = \"text-align: left;\">Tavern on the Green</td><td style = \"text-align: left;\">4.6</td></tr><tr><td class = \"rowNumber\" style = \"font-weight: bold; text-align: right;\">9</td><td style = \"text-align: left;\">5 Napkin Burger - Upper West Side</td><td style = \"text-align: left;\">4.6</td></tr><tr><td class = \"rowNumber\" style = \"font-weight: bold; text-align: right;\">10</td><td style = \"text-align: left;\">STK - Rooftop</td><td style = \"text-align: left;\">4.2</td></tr><tr><td class = \"rowNumber\" style = \"font-weight: bold; text-align: right;\">11</td><td style = \"text-align: left;\">STK - NYC - Midtown</td><td style = \"text-align: left;\">3.9</td></tr><tr><td class = \"rowNumber\" style = \"font-weight: bold; text-align: right;\">12</td><td style = \"text-align: left;\">Crave Fishbar - UWS</td><td style = \"text-align: left;\">4.6</td></tr><tr><td class = \"rowNumber\" style = \"font-weight: bold; text-align: right;\">13</td><td style = \"text-align: left;\">French Roast Uptown</td><td style = \"text-align: left;\">4.5</td></tr><tr><td style = \"text-align: right;\">&vellip;</td><td style = \"text-align: right;\">&vellip;</td><td style = \"text-align: right;\">&vellip;</td></tr><tr><td class = \"rowNumber\" style = \"font-weight: bold; text-align: right;\">89</td><td style = \"text-align: left;\">Hi-Life Restaurant - Upper West Side</td><td style = \"text-align: left;\">4.8</td></tr><tr><td class = \"rowNumber\" style = \"font-weight: bold; text-align: right;\">90</td><td style = \"text-align: left;\">Westville - Chelsea</td><td style = \"text-align: left;\">4.7</td></tr><tr><td class = \"rowNumber\" style = \"font-weight: bold; text-align: right;\">91</td><td style = \"text-align: left;\">Lady Blue</td><td style = \"text-align: left;\">4.6</td></tr><tr><td class = \"rowNumber\" style = \"font-weight: bold; text-align: right;\">92</td><td style = \"text-align: left;\">ART Midtown</td><td style = \"text-align: left;\">4.7</td></tr><tr><td class = \"rowNumber\" style = \"font-weight: bold; text-align: right;\">93</td><td style = \"text-align: left;\">Quality Italian - New York</td><td style = \"text-align: left;\">4.6</td></tr><tr><td class = \"rowNumber\" style = \"font-weight: bold; text-align: right;\">94</td><td style = \"text-align: left;\">Carla</td><td style = \"text-align: left;\">4.8</td></tr><tr><td class = \"rowNumber\" style = \"font-weight: bold; text-align: right;\">95</td><td style = \"text-align: left;\">Empire Steakhouse - 237 West 54 Street off of Broadway</td><td style = \"text-align: left;\">4.6</td></tr><tr><td class = \"rowNumber\" style = \"font-weight: bold; text-align: right;\">96</td><td style = \"text-align: left;\">Chazz Palminteri Italian Restaurant</td><td style = \"text-align: left;\">4.5</td></tr><tr><td class = \"rowNumber\" style = \"font-weight: bold; text-align: right;\">97</td><td style = \"text-align: left;\">Buddakan NY</td><td style = \"text-align: left;\">4.5</td></tr><tr><td class = \"rowNumber\" style = \"font-weight: bold; text-align: right;\">98</td><td style = \"text-align: left;\">Worthwild</td><td style = \"text-align: left;\">4.7</td></tr><tr><td class = \"rowNumber\" style = \"font-weight: bold; text-align: right;\">99</td><td style = \"text-align: left;\">The Smith - Midtown</td><td style = \"text-align: left;\">4.6</td></tr><tr><td class = \"rowNumber\" style = \"font-weight: bold; text-align: right;\">100</td><td style = \"text-align: left;\">212 Steakhouse</td><td style = \"text-align: left;\">4.5</td></tr></tbody></table></div>"
      ],
      "text/latex": [
       "\\begin{tabular}{r|cc}\n",
       "\t& name & rating\\\\\n",
       "\t\\hline\n",
       "\t& Any & Any\\\\\n",
       "\t\\hline\n",
       "\t1 & Bustan & 4.7 \\\\\n",
       "\t2 & Elea & 4.7 \\\\\n",
       "\t3 & Nice Matin & 4.5 \\\\\n",
       "\t4 & Dagon & 4.5 \\\\\n",
       "\t5 & Fogo de Chao - New York & 4.4 \\\\\n",
       "\t6 & Carmine's - 91st Street - NYC & 4.5 \\\\\n",
       "\t7 & Arco Cafe & 4.8 \\\\\n",
       "\t8 & Tavern on the Green & 4.6 \\\\\n",
       "\t9 & 5 Napkin Burger - Upper West Side & 4.6 \\\\\n",
       "\t10 & STK - Rooftop & 4.2 \\\\\n",
       "\t11 & STK - NYC - Midtown & 3.9 \\\\\n",
       "\t12 & Crave Fishbar - UWS & 4.6 \\\\\n",
       "\t13 & French Roast Uptown & 4.5 \\\\\n",
       "\t14 & Cafe Luxembourg & 4.7 \\\\\n",
       "\t15 & Sushi Yasaka & 4.7 \\\\\n",
       "\t16 & Limani - NYC & 4.6 \\\\\n",
       "\t17 & La Grande Boucherie & 4.5 \\\\\n",
       "\t18 & PHD Terrace – Dream Midtown & 4.1 \\\\\n",
       "\t19 & Nusr-Et Steakhouse New York & 4.6 \\\\\n",
       "\t20 & Playa Betty's & 4.3 \\\\\n",
       "\t21 & LAVO Italian Restaurant - New York & 4.6 \\\\\n",
       "\t22 & Bookmarks & 4.7 \\\\\n",
       "\t23 & STK - NYC - Meatpacking & 4.2 \\\\\n",
       "\t24 & SOL Mexican Cocina - New York & 4.3 \\\\\n",
       "\t25 & Carmine's - 44th Street - NYC & 4.6 \\\\\n",
       "\t26 & Serra by Birreria & 4.2 \\\\\n",
       "\t27 & Kyma - Hudson Yards & 4.7 \\\\\n",
       "\t28 & Butcher and Banker NYC & 4.4 \\\\\n",
       "\t29 & Song E Napule - UWS & 4.5 \\\\\n",
       "\t30 & Hawksmoor NYC & 4.5 \\\\\n",
       "\t$\\dots$ & $\\dots$ & $\\dots$ \\\\\n",
       "\\end{tabular}\n"
      ],
      "text/plain": [
       "\u001b[1m100×2 DataFrame\u001b[0m\n",
       "\u001b[1m Row \u001b[0m│\u001b[1m name                              \u001b[0m\u001b[1m rating \u001b[0m\n",
       "     │\u001b[90m Any                               \u001b[0m\u001b[90m Any    \u001b[0m\n",
       "─────┼───────────────────────────────────────────\n",
       "   1 │ Bustan                             4.7\n",
       "   2 │ Elea                               4.7\n",
       "   3 │ Nice Matin                         4.5\n",
       "   4 │ Dagon                              4.5\n",
       "   5 │ Fogo de Chao - New York            4.4\n",
       "   6 │ Carmine's - 91st Street - NYC      4.5\n",
       "   7 │ Arco Cafe                          4.8\n",
       "   8 │ Tavern on the Green                4.6\n",
       "   9 │ 5 Napkin Burger - Upper West Side  4.6\n",
       "  10 │ STK - Rooftop                      4.2\n",
       "  11 │ STK - NYC - Midtown                3.9\n",
       "  ⋮  │                 ⋮                    ⋮\n",
       "  91 │ Lady Blue                          4.6\n",
       "  92 │ ART Midtown                        4.7\n",
       "  93 │ Quality Italian - New York         4.6\n",
       "  94 │ Carla                              4.8\n",
       "  95 │ Empire Steakhouse - 237 West 54 …  4.6\n",
       "  96 │ Chazz Palminteri Italian Restaur…  4.5\n",
       "  97 │ Buddakan NY                        4.5\n",
       "  98 │ Worthwild                          4.7\n",
       "  99 │ The Smith - Midtown                4.6\n",
       " 100 │ 212 Steakhouse                     4.5\n",
       "\u001b[36m                                  79 rows omitted\u001b[0m"
      ]
     },
     "execution_count": 5,
     "metadata": {},
     "output_type": "execute_result"
    }
   ],
   "source": [
    "using DataFrames\n",
    "ny_restaurants = DataFrame(name = restaurant_names, rating = restaurant_ratings)"
   ]
  }
 ],
 "metadata": {
  "kernelspec": {
   "display_name": "Julia 1.9.1",
   "language": "julia",
   "name": "julia-1.9"
  },
  "language_info": {
   "file_extension": ".jl",
   "mimetype": "application/julia",
   "name": "julia",
   "version": "1.9.1"
  },
  "orig_nbformat": 4
 },
 "nbformat": 4,
 "nbformat_minor": 2
}
